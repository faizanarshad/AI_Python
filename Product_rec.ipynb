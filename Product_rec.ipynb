{
 "cells": [
  {
   "cell_type": "code",
   "execution_count": 3,
   "metadata": {},
   "outputs": [
    {
     "name": "stdout",
     "output_type": "stream",
     "text": [
      "Recommended products for user 0: ['Product_Category_Appliances', 'Product_Category_Electronics', 'Product_Category_Groceries', 'Product_Category_Personal_Care', 'Product_Category_Clothing']\n"
     ]
    }
   ],
   "source": [
    "import pandas as pd\n",
    "from sklearn.preprocessing import LabelEncoder\n",
    "from sklearn.metrics.pairwise import cosine_similarity\n",
    "\n",
    "# Load the dataset\n",
    "file_path = \"Dataset.csv\"  # Change to your file path\n",
    "df = pd.read_csv(file_path, encoding=\"latin1\")\n",
    "\n",
    "# Encode categorical variables\n",
    "label_encoders = {}\n",
    "for col in [\"Age\", \"Gender\", \"Education\"]:\n",
    "    le = LabelEncoder()\n",
    "    df[col] = le.fit_transform(df[col])\n",
    "    label_encoders[col] = le\n",
    "\n",
    "# Convert YES/NO in product categories to 1/0\n",
    "product_columns = [col for col in df.columns if \"Product_Category\" in col]\n",
    "df[product_columns] = df[product_columns].apply(lambda x: x.map({\"YES\": 1, \"NO\": 0}))\n",
    "\n",
    "# Select features for recommendation (demographics + purchase history)\n",
    "features = [\"Age\", \"Gender\", \"Education\"] + product_columns\n",
    "user_profiles = df[features]\n",
    "\n",
    "# Compute similarity matrix\n",
    "similarity_matrix = cosine_similarity(user_profiles)\n",
    "\n",
    "# Function to get product recommendations for a given user index\n",
    "def recommend_products(user_index, top_n=3):\n",
    "    similar_users = similarity_matrix[user_index].argsort()[-(top_n + 1):-1][::-1]\n",
    "    recommended_products = df.iloc[similar_users][product_columns].mean().sort_values(ascending=False)\n",
    "    return recommended_products.index[recommended_products > 0.5].tolist()  # Recommend frequently bought products\n",
    "\n",
    "# Example: Get recommendations for the first user\n",
    "user_id = 0\n",
    "recommended_products = recommend_products(user_id)\n",
    "print(f\"Recommended products for user {user_id}: {recommended_products}\")\n",
    "\n",
    "\n"
   ]
  }
 ],
 "metadata": {
  "kernelspec": {
   "display_name": "base",
   "language": "python",
   "name": "python3"
  },
  "language_info": {
   "codemirror_mode": {
    "name": "ipython",
    "version": 3
   },
   "file_extension": ".py",
   "mimetype": "text/x-python",
   "name": "python",
   "nbconvert_exporter": "python",
   "pygments_lexer": "ipython3",
   "version": "3.9.13"
  }
 },
 "nbformat": 4,
 "nbformat_minor": 2
}
